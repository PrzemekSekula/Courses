{
  "cells": [
    {
      "cell_type": "markdown",
      "metadata": {
        "id": "njb_ProuHiOe"
      },
      "source": [
        "# Unit 1: Train your first Deep Reinforcement Learning Agent 🤖\n",
        "\n",
        "![Cover](https://huggingface.co/datasets/huggingface-deep-rl-course/course-images/resolve/main/en/unit1/thumbnail.jpg)\n",
        "\n",
        "In this notebook, you'll train your **first Deep Reinforcement Learning agent** a Lunar Lander agent that will learn to **land correctly on the Moon 🌕**. Using [Stable-Baselines3](https://stable-baselines3.readthedocs.io/en/master/) a Deep Reinforcement Learning library, share them with the community, and experiment with different configurations\n",
        "\n",
        "⬇️ Here is an example of what **you will achieve in just a couple of minutes.** ⬇️\n",
        "\n",
        "\n"
      ]
    },
    {
      "cell_type": "markdown",
      "metadata": {
        "id": "x7oR6R-ZIbeS"
      },
      "source": [
        "### The environment 🎮\n",
        "\n",
        "- [LunarLander-v2](https://gymnasium.farama.org/environments/box2d/lunar_lander/)\n",
        "\n",
        "### The library used 📚\n",
        "\n",
        "- [Stable-Baselines3](https://stable-baselines3.readthedocs.io/en/master/)"
      ]
    },
    {
      "cell_type": "markdown",
      "metadata": {
        "id": "OwEcFHe9RRZW"
      },
      "source": [
        "We're constantly trying to improve our tutorials, so **if you find some issues in this notebook**, please [open an issue on the Github Repo](https://github.com/huggingface/deep-rl-class/issues)."
      ]
    },
    {
      "cell_type": "markdown",
      "metadata": {
        "id": "4i6tjI2tHQ8j"
      },
      "source": [
        "## Objectives of this notebook 🏆\n",
        "\n",
        "At the end of the notebook, you will:\n",
        "\n",
        "- Be able to use **Gymnasium**, the environment library.\n",
        "- Be able to use **Stable-Baselines3**, the deep reinforcement learning library.\n",
        "- Be able to **push your trained agent to the Hub** with a nice video replay and an evaluation score 🔥.\n",
        "\n",
        "\n"
      ]
    },
    {
      "cell_type": "markdown",
      "metadata": {
        "id": "Ff-nyJdzJPND"
      },
      "source": [
        "## This notebook is from Deep Reinforcement Learning Course\n",
        "\n",
        "<img src=\"https://huggingface.co/datasets/huggingface-deep-rl-course/course-images/resolve/main/en/notebooks/deep-rl-course-illustration.jpg\" alt=\"Deep RL Course illustration\"/>"
      ]
    },
    {
      "cell_type": "markdown",
      "metadata": {
        "id": "6p5HnEefISCB"
      },
      "source": [
        "In this free course, you will:\n",
        "\n",
        "- 📖 Study Deep Reinforcement Learning in **theory and practice**.\n",
        "- 🧑‍💻 Learn to **use famous Deep RL libraries** such as Stable Baselines3, RL Baselines3 Zoo, CleanRL and Sample Factory 2.0.\n",
        "- 🤖 Train **agents in unique environments**\n",
        "- 🎓 **Earn a certificate of completion** by completing 80% of the assignments.\n",
        "\n",
        "And more!\n",
        "\n",
        "Check 📚 the syllabus 👉 https://simoninithomas.github.io/deep-rl-course\n",
        "\n",
        "Don’t forget to **<a href=\"http://eepurl.com/ic5ZUD\">sign up to the course</a>** (we are collecting your email to be able to **send you the links when each Unit is published and give you information about the challenges and updates).**\n",
        "\n",
        "The best way to keep in touch and ask questions is **to join our discord server** to exchange with the community and with us 👉🏻 https://discord.gg/ydHrjt3WP5"
      ]
    },
    {
      "cell_type": "markdown",
      "metadata": {
        "id": "Y-mo_6rXIjRi"
      },
      "source": [
        "## Prerequisites 🏗️\n",
        "\n",
        "Before diving into the notebook, you need to:\n",
        "\n",
        "🔲 📝 **[Read Unit 0](https://huggingface.co/deep-rl-course/unit0/introduction)** that gives you all the **information about the course and helps you to onboard** 🤗\n",
        "\n",
        "🔲 📚 **Develop an understanding of the foundations of Reinforcement learning** (RL process, Rewards hypothesis...) by [reading Unit 1](https://huggingface.co/deep-rl-course/unit1/introduction)."
      ]
    },
    {
      "cell_type": "markdown",
      "metadata": {
        "id": "HoeqMnr5LuYE"
      },
      "source": [
        "## A small recap of Deep Reinforcement Learning 📚\n",
        "\n",
        "<img src=\"https://huggingface.co/datasets/huggingface-deep-rl-course/course-images/resolve/main/en/unit1/RL_process_game.jpg\" alt=\"The RL process\" width=\"100%\">"
      ]
    },
    {
      "cell_type": "markdown",
      "metadata": {
        "id": "xcQYx9ynaFMD"
      },
      "source": [
        "Let's do a small recap on what we learned in the first Unit:\n",
        "\n",
        "- Reinforcement Learning is a **computational approach to learning from actions**. We build an agent that learns from the environment by **interacting with it through trial and error** and receiving rewards (negative or positive) as feedback.\n",
        "\n",
        "- The goal of any RL agent is to **maximize its expected cumulative reward** (also called expected return) because RL is based on the _reward hypothesis_, which is that all goals can be described as the maximization of an expected cumulative reward.\n",
        "\n",
        "- The RL process is a **loop that outputs a sequence of state, action, reward, and next state**.\n",
        "\n",
        "- To calculate the expected cumulative reward (expected return), **we discount the rewards**: the rewards that come sooner (at the beginning of the game) are more probable to happen since they are more predictable than the long-term future reward.\n",
        "\n",
        "- To solve an RL problem, you want to **find an optimal policy**; the policy is the \"brain\" of your AI that will tell us what action to take given a state. The optimal one is the one that gives you the actions that max the expected return.\n",
        "\n",
        "There are **two** ways to find your optimal policy:\n",
        "\n",
        "- By **training your policy directly**: policy-based methods.\n",
        "- By **training a value function** that tells us the expected return the agent will get at each state and use this function to define our policy: value-based methods.\n",
        "\n",
        "- Finally, we spoke about Deep RL because **we introduce deep neural networks to estimate the action to take (policy-based) or to estimate the value of a state (value-based) hence the name \"deep.\"**"
      ]
    },
    {
      "cell_type": "markdown",
      "metadata": {
        "id": "qDploC3jSH99"
      },
      "source": [
        "# Let's train our first Deep Reinforcement Learning agent and upload it to the Hub 🚀\n",
        "\n",
        "## Get a certificate 🎓\n",
        "\n",
        "To validate this hands-on for the [certification process](https://huggingface.co/deep-rl-course/en/unit0/introduction#certification-process), you need to push your trained model to the Hub and **get a result of >= 200**.\n",
        "\n",
        "To find your result, go to the [leaderboard](https://huggingface.co/spaces/huggingface-projects/Deep-Reinforcement-Learning-Leaderboard) and find your model, **the result = mean_reward - std of reward**\n",
        "\n",
        "For more information about the certification process, check this section 👉 https://huggingface.co/deep-rl-course/en/unit0/introduction#certification-process"
      ]
    },
    {
      "cell_type": "markdown",
      "metadata": {
        "id": "HqzznTzhNfAC"
      },
      "source": [
        "## Set the GPU 💪\n",
        "\n",
        "- To **accelerate the agent's training, we'll use a GPU**. To do that, go to `Runtime > Change Runtime type`\n",
        "\n",
        "<img src=\"https://huggingface.co/datasets/huggingface-deep-rl-course/course-images/resolve/main/en/notebooks/gpu-step1.jpg\" alt=\"GPU Step 1\">"
      ]
    },
    {
      "cell_type": "markdown",
      "metadata": {
        "id": "38HBd3t1SHJ8"
      },
      "source": [
        "- `Hardware Accelerator > GPU`\n",
        "\n",
        "<img src=\"https://huggingface.co/datasets/huggingface-deep-rl-course/course-images/resolve/main/en/notebooks/gpu-step2.jpg\" alt=\"GPU Step 2\">"
      ]
    },
    {
      "cell_type": "markdown",
      "metadata": {
        "id": "jeDAH0h0EBiG"
      },
      "source": [
        "## Install dependencies and create a virtual screen 🔽\n",
        "\n",
        "The first step is to install the dependencies, we’ll install multiple ones.\n",
        "\n",
        "- `gymnasium[box2d]`: Contains the LunarLander-v2 environment 🌛\n",
        "- `stable-baselines3[extra]`: The deep reinforcement learning library.\n",
        "- `huggingface_sb3`: Additional code for Stable-baselines3 to load and upload models from the Hugging Face 🤗 Hub.\n",
        "\n",
        "To make things easier, we created a script to install all these dependencies."
      ]
    },
    {
      "cell_type": "code",
      "execution_count": null,
      "metadata": {
        "id": "BE5JWP5rQIKf"
      },
      "outputs": [],
      "source": [
        "# Virtual display\n",
        "from pyvirtualdisplay import Display\n",
        "\n",
        "virtual_display = Display(visible=0, size=(1400, 900))\n",
        "virtual_display.start()"
      ]
    },
    {
      "cell_type": "markdown",
      "metadata": {
        "id": "wrgpVFqyENVf"
      },
      "source": [
        "## Import the packages 📦\n",
        "\n",
        "One additional library we import is huggingface_hub **to be able to upload and download trained models from the hub**.\n",
        "\n",
        "\n",
        "The Hugging Face Hub 🤗 works as a central place where anyone can share and explore models and datasets. It has versioning, metrics, visualizations and other features that will allow you to easily collaborate with others.\n",
        "\n",
        "You can see here all the Deep reinforcement Learning models available here👉 https://huggingface.co/models?pipeline_tag=reinforcement-learning&sort=downloads\n",
        "\n"
      ]
    },
    {
      "cell_type": "code",
      "execution_count": 1,
      "metadata": {
        "id": "cygWLPGsEQ0m"
      },
      "outputs": [],
      "source": [
        "import gymnasium\n",
        "\n",
        "from huggingface_sb3 import load_from_hub, package_to_hub\n",
        "from huggingface_hub import notebook_login # To log to our Hugging Face account to be able to upload models to the Hub.\n",
        "\n",
        "from stable_baselines3 import PPO\n",
        "from stable_baselines3.common.env_util import make_vec_env\n",
        "from stable_baselines3.common.evaluation import evaluate_policy\n",
        "from stable_baselines3.common.monitor import Monitor"
      ]
    },
    {
      "cell_type": "markdown",
      "metadata": {
        "id": "MRqRuRUl8CsB"
      },
      "source": [
        "## Understand Gymnasium and how it works 🤖\n",
        "\n",
        "🏋 The library containing our environment is called Gymnasium.\n",
        "**You'll use Gymnasium a lot in Deep Reinforcement Learning.**\n",
        "\n",
        "Gymnasium is the **new version of Gym library** [maintained by the Farama Foundation](https://farama.org/).\n",
        "\n",
        "The Gymnasium library provides two things:\n",
        "\n",
        "- An interface that allows you to **create RL environments**.\n",
        "- A **collection of environments** (gym-control, atari, box2D...).\n",
        "\n",
        "Let's look at an example, but first let's recall the RL loop.\n",
        "\n",
        "<img src=\"https://huggingface.co/datasets/huggingface-deep-rl-course/course-images/resolve/main/en/unit1/RL_process_game.jpg\" alt=\"The RL process\" width=\"100%\">"
      ]
    },
    {
      "cell_type": "markdown",
      "metadata": {
        "id": "-TzNN0bQ_j-3"
      },
      "source": [
        "At each step:\n",
        "- Our Agent receives a **state (S0)** from the **Environment** — we receive the first frame of our game (Environment).\n",
        "- Based on that **state (S0),** the Agent takes an **action (A0)** — our Agent will move to the right.\n",
        "- The environment transitions to a **new** **state (S1)** — new frame.\n",
        "- The environment gives some **reward (R1)** to the Agent — we’re not dead *(Positive Reward +1)*.\n",
        "\n",
        "\n",
        "With Gymnasium:\n",
        "\n",
        "1️⃣ We create our environment using `gymnasium.make()`\n",
        "\n",
        "2️⃣ We reset the environment to its initial state with `observation = env.reset()`\n",
        "\n",
        "At each step:\n",
        "\n",
        "3️⃣ Get an action using our model (in our example we take a random action)\n",
        "\n",
        "4️⃣ Using `env.step(action)`, we perform this action in the environment and get\n",
        "- `observation`: The new state (st+1)\n",
        "- `reward`: The reward we get after executing the action\n",
        "- `terminated`: Indicates if the episode terminated (agent reach the terminal state)\n",
        "- `truncated`: Introduced with this new version, it indicates a timelimit or if an agent go out of bounds of the environment for instance.\n",
        "- `info`: A dictionary that provides additional information (depends on the environment).\n",
        "\n",
        "For more explanations check this 👉 https://gymnasium.farama.org/api/env/#gymnasium.Env.step\n",
        "\n",
        "If the episode is terminated:\n",
        "- We reset the environment to its initial state with `observation = env.reset()`\n",
        "\n",
        "**Let's look at an example!** Make sure to read the code\n"
      ]
    },
    {
      "cell_type": "code",
      "execution_count": 2,
      "metadata": {
        "id": "w7vOFlpA_ONz"
      },
      "outputs": [
        {
          "name": "stdout",
          "output_type": "stream",
          "text": [
            "Action taken: 1\n",
            "Action taken: 2\n",
            "Action taken: 0\n",
            "Action taken: 0\n",
            "Action taken: 1\n",
            "Action taken: 2\n",
            "Action taken: 1\n",
            "Action taken: 0\n",
            "Action taken: 1\n",
            "Action taken: 3\n",
            "Action taken: 2\n",
            "Action taken: 0\n",
            "Action taken: 0\n",
            "Action taken: 1\n",
            "Action taken: 1\n",
            "Action taken: 2\n",
            "Action taken: 0\n",
            "Action taken: 1\n",
            "Action taken: 2\n",
            "Action taken: 1\n"
          ]
        }
      ],
      "source": [
        "import gymnasium as gym\n",
        "\n",
        "# First, we create our environment called LunarLander-v2\n",
        "env = gym.make(\"LunarLander-v2\")\n",
        "\n",
        "# Then we reset this environment\n",
        "observation, info = env.reset()\n",
        "\n",
        "for _ in range(20):\n",
        "  # Take a random action\n",
        "  action = env.action_space.sample()\n",
        "  print(\"Action taken:\", action)\n",
        "\n",
        "  # Do this action in the environment and get\n",
        "  # next_state, reward, terminated, truncated and info\n",
        "  observation, reward, terminated, truncated, info = env.step(action)\n",
        "\n",
        "  # If the game is terminated (in our case we land, crashed) or truncated (timeout)\n",
        "  if terminated or truncated:\n",
        "      # Reset the environment\n",
        "      print(\"Environment is reset\")\n",
        "      observation, info = env.reset()\n",
        "\n",
        "env.close()"
      ]
    },
    {
      "cell_type": "markdown",
      "metadata": {
        "id": "XIrKGGSlENZB"
      },
      "source": [
        "## Create the LunarLander environment 🌛 and understand how it works\n",
        "\n",
        "### [The environment 🎮](https://gymnasium.farama.org/environments/box2d/lunar_lander/)\n",
        "\n",
        "In this first tutorial, we’re going to train our agent, a [Lunar Lander](https://gymnasium.farama.org/environments/box2d/lunar_lander/), **to land correctly on the moon**. To do that, the agent needs to learn **to adapt its speed and position (horizontal, vertical, and angular) to land correctly.**\n",
        "\n",
        "---\n",
        "\n",
        "\n",
        "💡 A good habit when you start to use an environment is to check its documentation\n",
        "\n",
        "👉 https://gymnasium.farama.org/environments/box2d/lunar_lander/\n",
        "\n",
        "---\n"
      ]
    },
    {
      "cell_type": "markdown",
      "metadata": {
        "id": "poLBgRocF9aT"
      },
      "source": [
        "Let's see what the Environment looks like:\n"
      ]
    },
    {
      "cell_type": "code",
      "execution_count": 3,
      "metadata": {
        "id": "ZNPG0g_UGCfh"
      },
      "outputs": [
        {
          "name": "stdout",
          "output_type": "stream",
          "text": [
            "_____OBSERVATION SPACE_____ \n",
            "\n",
            "Observation Space Shape (8,)\n",
            "Sample observation [ 0.67192733 -1.0361358  -2.5504048   4.8707294  -2.980672   -4.259858\n",
            "  0.44850945  0.49725747]\n"
          ]
        }
      ],
      "source": [
        "# We create our environment with gym.make(\"<name_of_the_environment>\")\n",
        "env = gym.make(\"LunarLander-v2\")\n",
        "env.reset()\n",
        "print(\"_____OBSERVATION SPACE_____ \\n\")\n",
        "print(\"Observation Space Shape\", env.observation_space.shape)\n",
        "print(\"Sample observation\", env.observation_space.sample()) # Get a random observation"
      ]
    },
    {
      "cell_type": "markdown",
      "metadata": {
        "id": "2MXc15qFE0M9"
      },
      "source": [
        "We see with `Observation Space Shape (8,)` that the observation is a vector of size 8, where each value contains different information about the lander:\n",
        "- Horizontal pad coordinate (x)\n",
        "- Vertical pad coordinate (y)\n",
        "- Horizontal speed (x)\n",
        "- Vertical speed (y)\n",
        "- Angle\n",
        "- Angular speed\n",
        "- If the left leg contact point has touched the land (boolean)\n",
        "- If the right leg contact point has touched the land (boolean)\n"
      ]
    },
    {
      "cell_type": "code",
      "execution_count": 4,
      "metadata": {
        "id": "We5WqOBGLoSm"
      },
      "outputs": [
        {
          "name": "stdout",
          "output_type": "stream",
          "text": [
            "\n",
            " _____ACTION SPACE_____ \n",
            "\n",
            "Action Space Shape 4\n",
            "Action Space Sample 1\n"
          ]
        }
      ],
      "source": [
        "print(\"\\n _____ACTION SPACE_____ \\n\")\n",
        "print(\"Action Space Shape\", env.action_space.n)\n",
        "print(\"Action Space Sample\", env.action_space.sample()) # Take a random action"
      ]
    },
    {
      "cell_type": "markdown",
      "metadata": {
        "id": "MyxXwkI2Magx"
      },
      "source": [
        "The action space (the set of possible actions the agent can take) is discrete with 4 actions available 🎮:\n",
        "\n",
        "- Action 0: Do nothing,\n",
        "- Action 1: Fire left orientation engine,\n",
        "- Action 2: Fire the main engine,\n",
        "- Action 3: Fire right orientation engine.\n",
        "\n",
        "Reward function (the function that will give a reward at each timestep) 💰:\n",
        "\n",
        "After every step a reward is granted. The total reward of an episode is the **sum of the rewards for all the steps within that episode**.\n",
        "\n",
        "For each step, the reward:\n",
        "\n",
        "- Is increased/decreased the closer/further the lander is to the landing pad.\n",
        "-  Is increased/decreased the slower/faster the lander is moving.\n",
        "- Is decreased the more the lander is tilted (angle not horizontal).\n",
        "- Is increased by 10 points for each leg that is in contact with the ground.\n",
        "- Is decreased by 0.03 points each frame a side engine is firing.\n",
        "- Is decreased by 0.3 points each frame the main engine is firing.\n",
        "\n",
        "The episode receive an **additional reward of -100 or +100 points for crashing or landing safely respectively.**\n",
        "\n",
        "An episode is **considered a solution if it scores at least 200 points.**"
      ]
    },
    {
      "cell_type": "markdown",
      "metadata": {
        "id": "dFD9RAFjG8aq"
      },
      "source": [
        "#### Vectorized Environment\n",
        "\n",
        "- We create a vectorized environment (a method for stacking multiple independent environments into a single environment) of 16 environments, this way, **we'll have more diverse experiences during the training.**"
      ]
    },
    {
      "cell_type": "code",
      "execution_count": 20,
      "metadata": {
        "id": "99hqQ_etEy1N"
      },
      "outputs": [],
      "source": [
        "# Create the environment\n",
        "env = make_vec_env('LunarLander-v2', n_envs=16)"
      ]
    },
    {
      "cell_type": "markdown",
      "metadata": {
        "id": "VgrE86r5E5IK"
      },
      "source": [
        "## Create the Model 🤖\n",
        "- We have studied our environment and we understood the problem: **being able to land the Lunar Lander to the Landing Pad correctly by controlling left, right and main orientation engine**. Now let's build the algorithm we're going to use to solve this Problem 🚀.\n",
        "\n",
        "- To do so, we're going to use our first Deep RL library, [Stable Baselines3 (SB3)](https://stable-baselines3.readthedocs.io/en/master/).\n",
        "\n",
        "- SB3 is a set of **reliable implementations of reinforcement learning algorithms in PyTorch**.\n",
        "\n",
        "---\n",
        "\n",
        "💡 A good habit when using a new library is to dive first on the documentation: https://stable-baselines3.readthedocs.io/en/master/ and then try some tutorials.\n",
        "\n",
        "----"
      ]
    },
    {
      "cell_type": "markdown",
      "metadata": {
        "id": "HLlClRW37Q7e"
      },
      "source": [
        "<img src=\"https://huggingface.co/datasets/huggingface-deep-rl-course/course-images/resolve/main/en/unit1/sb3.png\" alt=\"Stable Baselines3\">"
      ]
    },
    {
      "cell_type": "markdown",
      "metadata": {
        "id": "HV4yiUM_9_Ka"
      },
      "source": [
        "To solve this problem, we're going to use SB3 **PPO**. [PPO (aka Proximal Policy Optimization) is one of the SOTA (state of the art) Deep Reinforcement Learning algorithms that you'll study during this course](https://stable-baselines3.readthedocs.io/en/master/modules/ppo.html#example%5D).\n",
        "\n",
        "PPO is a combination of:\n",
        "- *Value-based reinforcement learning method*: learning an action-value function that will tell us the **most valuable action to take given a state and action**.\n",
        "- *Policy-based reinforcement learning method*: learning a policy that will **give us a probability distribution over actions**."
      ]
    },
    {
      "cell_type": "markdown",
      "metadata": {
        "id": "5qL_4HeIOrEJ"
      },
      "source": [
        "Stable-Baselines3 is easy to set up:\n",
        "\n",
        "1️⃣ You **create your environment** (in our case it was done above)\n",
        "\n",
        "2️⃣ You define the **model you want to use and instantiate this model** `model = PPO(\"MlpPolicy\")`\n",
        "\n",
        "3️⃣ You **train the agent** with `model.learn` and define the number of training timesteps\n",
        "\n",
        "```\n",
        "# Create environment\n",
        "env = gym.make('LunarLander-v2')\n",
        "\n",
        "# Instantiate the agent\n",
        "model = PPO('MlpPolicy', env, verbose=1)\n",
        "# Train the agent\n",
        "model.learn(total_timesteps=int(2e5))\n",
        "```\n",
        "\n"
      ]
    },
    {
      "cell_type": "code",
      "execution_count": 6,
      "metadata": {
        "id": "nxI6hT1GE4-A"
      },
      "outputs": [],
      "source": [
        "# TODO: Define a PPO MlpPolicy architecture\n",
        "# We use MultiLayerPerceptron (MLPPolicy) because the input is a vector,\n",
        "# if we had frames as input we would use CnnPolicy\n"
      ]
    },
    {
      "cell_type": "code",
      "execution_count": 7,
      "metadata": {},
      "outputs": [
        {
          "data": {
            "text/plain": [
              "CustomActorCriticPolicy(\n",
              "  (features_extractor): FlattenExtractor(\n",
              "    (flatten): Flatten(start_dim=1, end_dim=-1)\n",
              "  )\n",
              "  (pi_features_extractor): FlattenExtractor(\n",
              "    (flatten): Flatten(start_dim=1, end_dim=-1)\n",
              "  )\n",
              "  (vf_features_extractor): FlattenExtractor(\n",
              "    (flatten): Flatten(start_dim=1, end_dim=-1)\n",
              "  )\n",
              "  (mlp_extractor): CustomNetwork(\n",
              "    (policy_net): Sequential(\n",
              "      (0): Linear(in_features=8, out_features=128, bias=True)\n",
              "      (1): ReLU()\n",
              "      (2): Linear(in_features=128, out_features=64, bias=True)\n",
              "      (3): ReLU()\n",
              "      (4): Linear(in_features=64, out_features=32, bias=True)\n",
              "    )\n",
              "    (value_net): Sequential(\n",
              "      (0): Linear(in_features=8, out_features=128, bias=True)\n",
              "      (1): ReLU()\n",
              "      (2): Linear(in_features=128, out_features=64, bias=True)\n",
              "      (3): ReLU()\n",
              "      (4): Linear(in_features=64, out_features=32, bias=True)\n",
              "    )\n",
              "  )\n",
              "  (action_net): Linear(in_features=32, out_features=4, bias=True)\n",
              "  (value_net): Linear(in_features=32, out_features=1, bias=True)\n",
              ")"
            ]
          },
          "execution_count": 7,
          "metadata": {},
          "output_type": "execute_result"
        }
      ],
      "source": [
        "from typing import Callable, Dict, List, Optional, Tuple, Type, Union\n",
        "\n",
        "from gymnasium import spaces\n",
        "import torch as th\n",
        "from torch import nn\n",
        "\n",
        "from stable_baselines3 import PPO\n",
        "from stable_baselines3.common.policies import ActorCriticPolicy\n",
        "\n",
        "\n",
        "class CustomNetwork(nn.Module):\n",
        "    \"\"\"\n",
        "    Custom network for policy and value function.\n",
        "    It receives as input the features extracted by the features extractor.\n",
        "\n",
        "    :param feature_dim: dimension of the features extracted with the features_extractor (e.g. features from a CNN)\n",
        "    :param last_layer_dim_pi: (int) number of units for the last layer of the policy network\n",
        "    :param last_layer_dim_vf: (int) number of units for the last layer of the value network\n",
        "    \"\"\"\n",
        "\n",
        "    def __init__(\n",
        "        self,\n",
        "        feature_dim: int,\n",
        "        last_layer_dim_pi: int = 32,\n",
        "        last_layer_dim_vf: int = 32,\n",
        "    ):\n",
        "        super().__init__()\n",
        "\n",
        "        # IMPORTANT:\n",
        "        # Save output dimensions, used to create the distributions\n",
        "        self.latent_dim_pi = last_layer_dim_pi\n",
        "        self.latent_dim_vf = last_layer_dim_vf\n",
        "\n",
        "        # Policy network\n",
        "        self.policy_net = nn.Sequential(\n",
        "            nn.Linear(feature_dim, last_layer_dim_pi * 4), \n",
        "            nn.ReLU(),\n",
        "            nn.Linear(last_layer_dim_pi * 4, last_layer_dim_pi * 2),\n",
        "            nn.ReLU(),\n",
        "            nn.Linear(last_layer_dim_pi * 2, last_layer_dim_pi),\n",
        "        )\n",
        "        # Value network\n",
        "        self.value_net = nn.Sequential(\n",
        "            nn.Linear(feature_dim, last_layer_dim_pi * 4), \n",
        "            nn.ReLU(),\n",
        "            nn.Linear(last_layer_dim_pi * 4, last_layer_dim_pi * 2),\n",
        "            nn.ReLU(),\n",
        "            nn.Linear(last_layer_dim_pi * 2, last_layer_dim_pi),\n",
        "        )\n",
        "\n",
        "    def forward(self, features: th.Tensor) -> Tuple[th.Tensor, th.Tensor]:\n",
        "        \"\"\"\n",
        "        :return: (th.Tensor, th.Tensor) latent_policy, latent_value of the specified network.\n",
        "            If all layers are shared, then ``latent_policy == latent_value``\n",
        "        \"\"\"\n",
        "        return self.forward_actor(features), self.forward_critic(features)\n",
        "\n",
        "    def forward_actor(self, features: th.Tensor) -> th.Tensor:\n",
        "        return self.policy_net(features)\n",
        "\n",
        "    def forward_critic(self, features: th.Tensor) -> th.Tensor:\n",
        "        return self.value_net(features)\n",
        "\n",
        "\n",
        "class CustomActorCriticPolicy(ActorCriticPolicy):\n",
        "    def __init__(\n",
        "        self,\n",
        "        observation_space: spaces.Space,\n",
        "        action_space: spaces.Space,\n",
        "        lr_schedule: Callable[[float], float],\n",
        "        *args,\n",
        "        **kwargs,\n",
        "    ):\n",
        "        # Disable orthogonal initialization\n",
        "        kwargs[\"ortho_init\"] = False\n",
        "        super().__init__(\n",
        "            observation_space,\n",
        "            action_space,\n",
        "            lr_schedule,\n",
        "            # Pass remaining arguments to base class\n",
        "            *args,\n",
        "            **kwargs,\n",
        "        )\n",
        "\n",
        "\n",
        "    def _build_mlp_extractor(self) -> None:\n",
        "        self.mlp_extractor = CustomNetwork(self.features_dim)\n",
        "\n",
        "\n",
        "policy = CustomActorCriticPolicy(env.observation_space, env.action_space, lr_schedule=lambda x: 2.5e-4)\n",
        "policy"
      ]
    },
    {
      "cell_type": "markdown",
      "metadata": {
        "id": "QAN7B0_HCVZC"
      },
      "source": [
        "#### Solution"
      ]
    },
    {
      "cell_type": "code",
      "execution_count": 8,
      "metadata": {
        "id": "543OHYDfcjK4"
      },
      "outputs": [],
      "source": [
        "# SOLUTION\n",
        "# We added some parameters to accelerate the training\n",
        "model = PPO(\n",
        "    # policy = 'MlpPolicy',\n",
        "    policy = CustomActorCriticPolicy,\n",
        "    env = env,\n",
        "    n_steps = 1024,\n",
        "    batch_size = 64,\n",
        "    n_epochs = 6,\n",
        "    gamma = 0.999,\n",
        "    gae_lambda = 0.999,\n",
        "    ent_coef = 0.01,\n",
        "    tensorboard_log = \"./tb_logs\",\n",
        "    verbose=0\n",
        "    )"
      ]
    },
    {
      "cell_type": "markdown",
      "metadata": {
        "id": "ClJJk88yoBUi"
      },
      "source": [
        "## Train the PPO agent 🏃\n",
        "- Let's train our agent for 1,000,000 timesteps, don't forget to use GPU on Colab. It will take approximately ~20min, but you can use fewer timesteps if you just want to try it out.\n",
        "- During the training, take a ☕ break you deserved it 🤗"
      ]
    },
    {
      "cell_type": "code",
      "execution_count": 9,
      "metadata": {
        "id": "qKnYkNiVp89p"
      },
      "outputs": [],
      "source": [
        "# TODO: Train it for 1,000,000 timesteps\n",
        "\n",
        "# TODO: Specify file name for model and save the model to file\n",
        "model_name = \"ppo-LunarLander-v2\"\n"
      ]
    },
    {
      "cell_type": "markdown",
      "metadata": {
        "id": "1bQzQ-QcE3zo"
      },
      "source": [
        "#### Solution"
      ]
    },
    {
      "cell_type": "code",
      "execution_count": 10,
      "metadata": {
        "id": "poBCy9u_csyR"
      },
      "outputs": [
        {
          "data": {
            "application/vnd.jupyter.widget-view+json": {
              "model_id": "8f81c1889c3346fda37ce56b3260dc59",
              "version_major": 2,
              "version_minor": 0
            },
            "text/plain": [
              "Output()"
            ]
          },
          "metadata": {},
          "output_type": "display_data"
        },
        {
          "data": {
            "text/html": [
              "<pre style=\"white-space:pre;overflow-x:auto;line-height:normal;font-family:Menlo,'DejaVu Sans Mono',consolas,'Courier New',monospace\"></pre>\n"
            ],
            "text/plain": []
          },
          "metadata": {},
          "output_type": "display_data"
        }
      ],
      "source": [
        "# SOLUTION\n",
        "# Train it for 1,000,000 timesteps\n",
        "model.learn(\n",
        "    total_timesteps=int(3e6), \n",
        "    progress_bar=True,\n",
        "    )\n",
        "# Save the model\n",
        "model_name = \"ppo-LunarLander-v2\"\n",
        "model.save(model_name)"
      ]
    },
    {
      "cell_type": "code",
      "execution_count": 24,
      "metadata": {},
      "outputs": [
        {
          "name": "stdout",
          "output_type": "stream",
          "text": [
            "mean_reward=286.06 +/- 19.760239094136878. Score: 266.30\n",
            "mean_reward=295.24 +/- 13.972756186730765. Score: 281.27\n",
            "mean_reward=292.67 +/- 16.138429116948764. Score: 276.53\n",
            "mean_reward=295.02 +/- 18.44186666230837. Score: 276.58\n",
            "mean_reward=301.12 +/- 16.428213707719163. Score: 284.70\n",
            "mean_reward=300.65 +/- 10.53178574799817. Score: 290.12\n"
          ]
        }
      ],
      "source": [
        "#@title\n",
        "score = 0\n",
        "while score < 285:\n",
        "    eval_env = Monitor(gym.make(\"LunarLander-v2\", render_mode='rgb_array'))\n",
        "    mean_reward, std_reward = evaluate_policy(model, eval_env, n_eval_episodes=10, deterministic=True)\n",
        "    score = mean_reward - std_reward\n",
        "    print(f\"mean_reward={mean_reward:.2f} +/- {std_reward}. Score: {score:.2f}\")"
      ]
    },
    {
      "cell_type": "code",
      "execution_count": 21,
      "metadata": {},
      "outputs": [
        {
          "ename": "AssertionError",
          "evalue": "",
          "output_type": "error",
          "traceback": [
            "\u001b[1;31m---------------------------------------------------------------------------\u001b[0m",
            "\u001b[1;31mAssertionError\u001b[0m                            Traceback (most recent call last)",
            "Cell \u001b[1;32mIn[21], line 1\u001b[0m\n\u001b[1;32m----> 1\u001b[0m model\u001b[38;5;241m.\u001b[39mlearn(\n\u001b[0;32m      2\u001b[0m     total_timesteps\u001b[38;5;241m=\u001b[39m\u001b[38;5;28mint\u001b[39m(\u001b[38;5;241m3e6\u001b[39m), \n\u001b[0;32m      3\u001b[0m     progress_bar\u001b[38;5;241m=\u001b[39m\u001b[38;5;28;01mTrue\u001b[39;00m,\n\u001b[0;32m      4\u001b[0m     )\n\u001b[0;32m      5\u001b[0m \u001b[38;5;66;03m# Save the model\u001b[39;00m\n\u001b[0;32m      6\u001b[0m model_name \u001b[38;5;241m=\u001b[39m \u001b[38;5;124m\"\u001b[39m\u001b[38;5;124mppo-LunarLander-v2-updated\u001b[39m\u001b[38;5;124m\"\u001b[39m\n",
            "File \u001b[1;32mc:\\Users\\Przemek\\anaconda3\\envs\\rl-hf\\Lib\\site-packages\\stable_baselines3\\ppo\\ppo.py:315\u001b[0m, in \u001b[0;36mPPO.learn\u001b[1;34m(self, total_timesteps, callback, log_interval, tb_log_name, reset_num_timesteps, progress_bar)\u001b[0m\n\u001b[0;32m    306\u001b[0m \u001b[38;5;28;01mdef\u001b[39;00m \u001b[38;5;21mlearn\u001b[39m(\n\u001b[0;32m    307\u001b[0m     \u001b[38;5;28mself\u001b[39m: SelfPPO,\n\u001b[0;32m    308\u001b[0m     total_timesteps: \u001b[38;5;28mint\u001b[39m,\n\u001b[1;32m   (...)\u001b[0m\n\u001b[0;32m    313\u001b[0m     progress_bar: \u001b[38;5;28mbool\u001b[39m \u001b[38;5;241m=\u001b[39m \u001b[38;5;28;01mFalse\u001b[39;00m,\n\u001b[0;32m    314\u001b[0m ) \u001b[38;5;241m-\u001b[39m\u001b[38;5;241m>\u001b[39m SelfPPO:\n\u001b[1;32m--> 315\u001b[0m     \u001b[38;5;28;01mreturn\u001b[39;00m \u001b[38;5;28msuper\u001b[39m()\u001b[38;5;241m.\u001b[39mlearn(\n\u001b[0;32m    316\u001b[0m         total_timesteps\u001b[38;5;241m=\u001b[39mtotal_timesteps,\n\u001b[0;32m    317\u001b[0m         callback\u001b[38;5;241m=\u001b[39mcallback,\n\u001b[0;32m    318\u001b[0m         log_interval\u001b[38;5;241m=\u001b[39mlog_interval,\n\u001b[0;32m    319\u001b[0m         tb_log_name\u001b[38;5;241m=\u001b[39mtb_log_name,\n\u001b[0;32m    320\u001b[0m         reset_num_timesteps\u001b[38;5;241m=\u001b[39mreset_num_timesteps,\n\u001b[0;32m    321\u001b[0m         progress_bar\u001b[38;5;241m=\u001b[39mprogress_bar,\n\u001b[0;32m    322\u001b[0m     )\n",
            "File \u001b[1;32mc:\\Users\\Przemek\\anaconda3\\envs\\rl-hf\\Lib\\site-packages\\stable_baselines3\\common\\on_policy_algorithm.py:287\u001b[0m, in \u001b[0;36mOnPolicyAlgorithm.learn\u001b[1;34m(self, total_timesteps, callback, log_interval, tb_log_name, reset_num_timesteps, progress_bar)\u001b[0m\n\u001b[0;32m    276\u001b[0m \u001b[38;5;28;01mdef\u001b[39;00m \u001b[38;5;21mlearn\u001b[39m(\n\u001b[0;32m    277\u001b[0m     \u001b[38;5;28mself\u001b[39m: SelfOnPolicyAlgorithm,\n\u001b[0;32m    278\u001b[0m     total_timesteps: \u001b[38;5;28mint\u001b[39m,\n\u001b[1;32m   (...)\u001b[0m\n\u001b[0;32m    283\u001b[0m     progress_bar: \u001b[38;5;28mbool\u001b[39m \u001b[38;5;241m=\u001b[39m \u001b[38;5;28;01mFalse\u001b[39;00m,\n\u001b[0;32m    284\u001b[0m ) \u001b[38;5;241m-\u001b[39m\u001b[38;5;241m>\u001b[39m SelfOnPolicyAlgorithm:\n\u001b[0;32m    285\u001b[0m     iteration \u001b[38;5;241m=\u001b[39m \u001b[38;5;241m0\u001b[39m\n\u001b[1;32m--> 287\u001b[0m     total_timesteps, callback \u001b[38;5;241m=\u001b[39m \u001b[38;5;28mself\u001b[39m\u001b[38;5;241m.\u001b[39m_setup_learn(\n\u001b[0;32m    288\u001b[0m         total_timesteps,\n\u001b[0;32m    289\u001b[0m         callback,\n\u001b[0;32m    290\u001b[0m         reset_num_timesteps,\n\u001b[0;32m    291\u001b[0m         tb_log_name,\n\u001b[0;32m    292\u001b[0m         progress_bar,\n\u001b[0;32m    293\u001b[0m     )\n\u001b[0;32m    295\u001b[0m     callback\u001b[38;5;241m.\u001b[39mon_training_start(\u001b[38;5;28mlocals\u001b[39m(), \u001b[38;5;28mglobals\u001b[39m())\n\u001b[0;32m    297\u001b[0m     \u001b[38;5;28;01massert\u001b[39;00m \u001b[38;5;28mself\u001b[39m\u001b[38;5;241m.\u001b[39menv \u001b[38;5;129;01mis\u001b[39;00m \u001b[38;5;129;01mnot\u001b[39;00m \u001b[38;5;28;01mNone\u001b[39;00m\n",
            "File \u001b[1;32mc:\\Users\\Przemek\\anaconda3\\envs\\rl-hf\\Lib\\site-packages\\stable_baselines3\\common\\base_class.py:422\u001b[0m, in \u001b[0;36mBaseAlgorithm._setup_learn\u001b[1;34m(self, total_timesteps, callback, reset_num_timesteps, tb_log_name, progress_bar)\u001b[0m\n\u001b[0;32m    420\u001b[0m \u001b[38;5;66;03m# Avoid resetting the environment when calling ``.learn()`` consecutive times\u001b[39;00m\n\u001b[0;32m    421\u001b[0m \u001b[38;5;28;01mif\u001b[39;00m reset_num_timesteps \u001b[38;5;129;01mor\u001b[39;00m \u001b[38;5;28mself\u001b[39m\u001b[38;5;241m.\u001b[39m_last_obs \u001b[38;5;129;01mis\u001b[39;00m \u001b[38;5;28;01mNone\u001b[39;00m:\n\u001b[1;32m--> 422\u001b[0m     \u001b[38;5;28;01massert\u001b[39;00m \u001b[38;5;28mself\u001b[39m\u001b[38;5;241m.\u001b[39menv \u001b[38;5;129;01mis\u001b[39;00m \u001b[38;5;129;01mnot\u001b[39;00m \u001b[38;5;28;01mNone\u001b[39;00m\n\u001b[0;32m    423\u001b[0m     \u001b[38;5;28mself\u001b[39m\u001b[38;5;241m.\u001b[39m_last_obs \u001b[38;5;241m=\u001b[39m \u001b[38;5;28mself\u001b[39m\u001b[38;5;241m.\u001b[39menv\u001b[38;5;241m.\u001b[39mreset()  \u001b[38;5;66;03m# type: ignore[assignment]\u001b[39;00m\n\u001b[0;32m    424\u001b[0m     \u001b[38;5;28mself\u001b[39m\u001b[38;5;241m.\u001b[39m_last_episode_starts \u001b[38;5;241m=\u001b[39m np\u001b[38;5;241m.\u001b[39mones((\u001b[38;5;28mself\u001b[39m\u001b[38;5;241m.\u001b[39menv\u001b[38;5;241m.\u001b[39mnum_envs,), dtype\u001b[38;5;241m=\u001b[39m\u001b[38;5;28mbool\u001b[39m)\n",
            "\u001b[1;31mAssertionError\u001b[0m: "
          ]
        }
      ],
      "source": [
        "model.learn(\n",
        "    total_timesteps=int(3e6), \n",
        "    progress_bar=True,\n",
        "    )\n",
        "# Save the model\n",
        "model_name = \"ppo-LunarLander-v2-updated\"\n",
        "model.save(model_name)"
      ]
    },
    {
      "cell_type": "code",
      "execution_count": null,
      "metadata": {},
      "outputs": [],
      "source": [
        "#@title\n",
        "eval_env = Monitor(gym.make(\"LunarLander-v2\", render_mode='rgb_array'))\n",
        "mean_reward, std_reward = evaluate_policy(model, eval_env, n_eval_episodes=10, deterministic=True)\n",
        "print(f\"mean_reward={mean_reward:.2f} +/- {std_reward}. Score: {mean_reward - std_reward:.2f}\")"
      ]
    },
    {
      "cell_type": "code",
      "execution_count": null,
      "metadata": {},
      "outputs": [],
      "source": [
        "model.n_steps = 512\n",
        "model.learn(\n",
        "    total_timesteps=int(1e7), \n",
        "    progress_bar=True,\n",
        "    )\n",
        "# Save the mode\n",
        "model_name = \"ppo-LunarLander-v2-updated\"\n",
        "model.save(model_name)\n",
        "\n",
        "eval_env = Monitor(gym.make(\"LunarLander-v2\", render_mode='rgb_array'))\n",
        "mean_reward, std_reward = evaluate_policy(model, eval_env, n_eval_episodes=10, deterministic=True)\n",
        "print(f\"mean_reward={mean_reward:.2f} +/- {std_reward}. Score: {mean_reward - std_reward:.2f}\")"
      ]
    },
    {
      "cell_type": "markdown",
      "metadata": {
        "id": "BY_HuedOoISR"
      },
      "source": [
        "## Evaluate the agent 📈\n",
        "- Remember to wrap the environment in a [Monitor](https://stable-baselines3.readthedocs.io/en/master/common/monitor.html).\n",
        "- Now that our Lunar Lander agent is trained 🚀, we need to **check its performance**.\n",
        "- Stable-Baselines3 provides a method to do that: `evaluate_policy`.\n",
        "- To fill that part you need to [check the documentation](https://stable-baselines3.readthedocs.io/en/master/guide/examples.html#basic-usage-training-saving-loading)\n",
        "- In the next step,  we'll see **how to automatically evaluate and share your agent to compete in a leaderboard, but for now let's do it ourselves**\n",
        "\n",
        "\n",
        "💡 When you evaluate your agent, you should not use your training environment but create an evaluation environment."
      ]
    },
    {
      "cell_type": "code",
      "execution_count": null,
      "metadata": {
        "id": "yRpno0glsADy"
      },
      "outputs": [],
      "source": [
        "# TODO: Evaluate the agent\n",
        "# Create a new environment for evaluation\n",
        "eval_env =\n",
        "\n",
        "# Evaluate the model with 10 evaluation episodes and deterministic=True\n",
        "mean_reward, std_reward =\n",
        "\n",
        "# Print the results\n",
        "\n"
      ]
    },
    {
      "cell_type": "markdown",
      "metadata": {
        "id": "BqPKw3jt_pG5"
      },
      "source": [
        "#### Solution"
      ]
    },
    {
      "cell_type": "code",
      "execution_count": null,
      "metadata": {
        "id": "zpz8kHlt_a_m"
      },
      "outputs": [],
      "source": [
        "#@title\n",
        "eval_env = Monitor(gym.make(\"LunarLander-v2\", render_mode='rgb_array'))\n",
        "mean_reward, std_reward = evaluate_policy(model, eval_env, n_eval_episodes=10, deterministic=True)\n",
        "print(f\"mean_reward={mean_reward:.2f} +/- {std_reward}. Score: {mean_reward - std_reward:.2f}\")"
      ]
    },
    {
      "cell_type": "markdown",
      "metadata": {
        "id": "reBhoODwcXfr"
      },
      "source": [
        "- In my case, I got a mean reward of `200.20 +/- 20.80` after training for 1 million steps, which means that our lunar lander agent is ready to land on the moon 🌛🥳."
      ]
    },
    {
      "cell_type": "markdown",
      "metadata": {
        "id": "IK_kR78NoNb2"
      },
      "source": [
        "## Publish our trained model on the Hub 🔥\n",
        "Now that we saw we got good results after the training, we can publish our trained model on the hub 🤗 with one line of code.\n",
        "\n",
        "📚 The libraries documentation 👉 https://github.com/huggingface/huggingface_sb3/tree/main#hugging-face--x-stable-baselines3-v20\n",
        "\n",
        "Here's an example of a Model Card (with Space Invaders):"
      ]
    },
    {
      "cell_type": "markdown",
      "metadata": {
        "id": "Gs-Ew7e1gXN3"
      },
      "source": [
        "By using `package_to_hub` **you evaluate, record a replay, generate a model card of your agent and push it to the hub**.\n",
        "\n",
        "This way:\n",
        "- You can **showcase our work** 🔥\n",
        "- You can **visualize your agent playing** 👀\n",
        "- You can **share with the community an agent that others can use** 💾\n",
        "- You can **access a leaderboard 🏆 to see how well your agent is performing compared to your classmates** 👉 https://huggingface.co/spaces/huggingface-projects/Deep-Reinforcement-Learning-Leaderboard\n"
      ]
    },
    {
      "cell_type": "markdown",
      "metadata": {
        "id": "JquRrWytA6eo"
      },
      "source": [
        "To be able to share your model with the community there are three more steps to follow:\n",
        "\n",
        "1️⃣ (If it's not already done) create an account on Hugging Face ➡ https://huggingface.co/join\n",
        "\n",
        "2️⃣ Sign in and then, you need to store your authentication token from the Hugging Face website.\n",
        "- Create a new token (https://huggingface.co/settings/tokens) **with write role**\n",
        "\n",
        "<img src=\"https://huggingface.co/datasets/huggingface-deep-rl-course/course-images/resolve/main/en/notebooks/create-token.jpg\" alt=\"Create HF Token\">\n",
        "\n",
        "- Copy the token\n",
        "- Run the cell below and paste the token"
      ]
    },
    {
      "cell_type": "code",
      "execution_count": 27,
      "metadata": {
        "id": "GZiFBBlzxzxY"
      },
      "outputs": [
        {
          "data": {
            "application/vnd.jupyter.widget-view+json": {
              "model_id": "231f2d4a186a4bed819335a1985ef34a",
              "version_major": 2,
              "version_minor": 0
            },
            "text/plain": [
              "VBox(children=(HTML(value='<center> <img\\nsrc=https://huggingface.co/front/assets/huggingface_logo-noborder.sv…"
            ]
          },
          "metadata": {},
          "output_type": "display_data"
        }
      ],
      "source": [
        "notebook_login()\n",
        "#!git config --global credential.helper store"
      ]
    },
    {
      "cell_type": "markdown",
      "metadata": {
        "id": "_tsf2uv0g_4p"
      },
      "source": [
        "If you don't want to use a Google Colab or a Jupyter Notebook, you need to use this command instead: `huggingface-cli login`"
      ]
    },
    {
      "cell_type": "markdown",
      "metadata": {
        "id": "FGNh9VsZok0i"
      },
      "source": [
        "3️⃣ We're now ready to push our trained agent to the 🤗 Hub 🔥 using `package_to_hub()` function"
      ]
    },
    {
      "cell_type": "markdown",
      "metadata": {
        "id": "Ay24l6bqFF18"
      },
      "source": [
        "Let's fill the `package_to_hub` function:\n",
        "- `model`: our trained model.\n",
        "- `model_name`: the name of the trained model that we defined in `model_save`\n",
        "- `model_architecture`: the model architecture we used, in our case PPO\n",
        "- `env_id`: the name of the environment, in our case `LunarLander-v2`\n",
        "- `eval_env`: the evaluation environment defined in eval_env\n",
        "- `repo_id`: the name of the Hugging Face Hub Repository that will be created/updated `(repo_id = {username}/{repo_name})`\n",
        "\n",
        "💡 **A good name is {username}/{model_architecture}-{env_id}**\n",
        "\n",
        "- `commit_message`: message of the commit"
      ]
    },
    {
      "cell_type": "code",
      "execution_count": 29,
      "metadata": {
        "id": "I2E--IJu8JYq"
      },
      "outputs": [
        {
          "name": "stdout",
          "output_type": "stream",
          "text": [
            "\u001b[38;5;4mℹ This function will save, evaluate, generate a video of your agent,\n",
            "create a model card and push everything to the hub. It might take up to 1min.\n",
            "This is a work in progress: if you encounter a bug, please open an issue.\u001b[0m\n",
            "Saving video to C:\\Users\\Przemek\\AppData\\Local\\Temp\\tmpycsh837p\\-step-0-to-step-1000.mp4\n"
          ]
        },
        {
          "name": "stderr",
          "output_type": "stream",
          "text": [
            "Exception ignored in: <function VecVideoRecorder.__del__ at 0x0000017D88834E00>\n",
            "Traceback (most recent call last):\n",
            "  File \"c:\\Users\\Przemek\\anaconda3\\envs\\rl-hf\\Lib\\site-packages\\stable_baselines3\\common\\vec_env\\vec_video_recorder.py\", line 113, in __del__\n",
            "    self.close_video_recorder()\n",
            "  File \"c:\\Users\\Przemek\\anaconda3\\envs\\rl-hf\\Lib\\site-packages\\stable_baselines3\\common\\vec_env\\vec_video_recorder.py\", line 104, in close_video_recorder\n",
            "    self.video_recorder.close()\n",
            "  File \"c:\\Users\\Przemek\\anaconda3\\envs\\rl-hf\\Lib\\site-packages\\gymnasium\\wrappers\\monitoring\\video_recorder.py\", line 157, in close\n",
            "    clip.write_videofile(self.path, logger=moviepy_logger)\n",
            "  File \"c:\\Users\\Przemek\\anaconda3\\envs\\rl-hf\\Lib\\site-packages\\decorator.py\", line 232, in fun\n",
            "    for i, extra in enumerate(extras):\n",
            "                   ^^^^^^^^^^^^^^^^^^^^\n",
            "  File \"c:\\Users\\Przemek\\anaconda3\\envs\\rl-hf\\Lib\\site-packages\\moviepy\\decorators.py\", line 54, in requires_duration\n",
            "    return f(clip, *a, **k)\n",
            "           ^^^^^^^^^^^^^^^^\n",
            "  File \"c:\\Users\\Przemek\\anaconda3\\envs\\rl-hf\\Lib\\site-packages\\decorator.py\", line 232, in fun\n",
            "    for i, extra in enumerate(extras):\n",
            "                   ^^^^^^^^^^^^^^^^^^^^\n",
            "  File \"c:\\Users\\Przemek\\anaconda3\\envs\\rl-hf\\Lib\\site-packages\\moviepy\\decorators.py\", line 135, in use_clip_fps_by_default\n",
            "    return f(clip, *new_a, **new_kw)\n",
            "           ^^^^^^^^^^^^^^^^^^^^^^^^^\n",
            "  File \"c:\\Users\\Przemek\\anaconda3\\envs\\rl-hf\\Lib\\site-packages\\decorator.py\", line 232, in fun\n",
            "    for i, extra in enumerate(extras):\n",
            "                   ^^^^^^^^^^^^^^^^^^^^\n",
            "  File \"c:\\Users\\Przemek\\anaconda3\\envs\\rl-hf\\Lib\\site-packages\\moviepy\\decorators.py\", line 22, in convert_masks_to_RGB\n",
            "    return f(clip, *a, **k)\n",
            "           ^^^^^^^^^^^^^^^^\n",
            "  File \"c:\\Users\\Przemek\\anaconda3\\envs\\rl-hf\\Lib\\site-packages\\moviepy\\video\\VideoClip.py\", line 300, in write_videofile\n",
            "    ffmpeg_write_video(self, filename, fps, codec,\n",
            "  File \"c:\\Users\\Przemek\\anaconda3\\envs\\rl-hf\\Lib\\site-packages\\moviepy\\video\\io\\ffmpeg_writer.py\", line 213, in ffmpeg_write_video\n",
            "    with FFMPEG_VideoWriter(filename, clip.size, fps, codec = codec,\n",
            "         ^^^^^^^^^^^^^^^^^^^^^^^^^^^^^^^^^^^^^^^^^^^^^^^^^^^^^^^^^^^\n",
            "  File \"c:\\Users\\Przemek\\anaconda3\\envs\\rl-hf\\Lib\\site-packages\\moviepy\\video\\io\\ffmpeg_writer.py\", line 88, in __init__\n",
            "    '-r', '%.02f' % fps,\n",
            "          ~~~~~~~~^~~~~\n",
            "TypeError: must be real number, not NoneType\n",
            "c:\\Users\\Przemek\\anaconda3\\envs\\rl-hf\\Lib\\site-packages\\gymnasium\\wrappers\\monitoring\\video_recorder.py:178: UserWarning: \u001b[33mWARN: Unable to save last video! Did you call close()?\u001b[0m\n",
            "  logger.warn(\"Unable to save last video! Did you call close()?\")\n"
          ]
        },
        {
          "name": "stdout",
          "output_type": "stream",
          "text": [
            "Moviepy - Building video C:\\Users\\Przemek\\AppData\\Local\\Temp\\tmpycsh837p\\-step-0-to-step-1000.mp4.\n",
            "Moviepy - Writing video C:\\Users\\Przemek\\AppData\\Local\\Temp\\tmpycsh837p\\-step-0-to-step-1000.mp4\n",
            "\n",
            "\u001b[38;5;1m✘ must be real number, not NoneType\u001b[0m\n",
            "\u001b[38;5;1m✘ We are unable to generate a replay of your agent, the package_to_hub\n",
            "process continues\u001b[0m\n",
            "\u001b[38;5;1m✘ Please open an issue at\n",
            "https://github.com/huggingface/huggingface_sb3/issues\u001b[0m\n",
            "Moviepy - Building video C:\\Users\\Przemek\\AppData\\Local\\Temp\\tmpycsh837p\\-step-0-to-step-1000.mp4.\n",
            "Moviepy - Writing video C:\\Users\\Przemek\\AppData\\Local\\Temp\\tmpycsh837p\\-step-0-to-step-1000.mp4\n",
            "\n",
            "\u001b[38;5;4mℹ Pushing repo PrzemekS/rl-hgf-course-ppo-LunarLander-v2 to the Hugging\n",
            "Face Hub\u001b[0m\n"
          ]
        },
        {
          "data": {
            "application/vnd.jupyter.widget-view+json": {
              "model_id": "307cadbf4600443dafb56a64fda4de11",
              "version_major": 2,
              "version_minor": 0
            },
            "text/plain": [
              "policy.pth:   0%|          | 0.00/98.4k [00:00<?, ?B/s]"
            ]
          },
          "metadata": {},
          "output_type": "display_data"
        },
        {
          "data": {
            "application/vnd.jupyter.widget-view+json": {
              "model_id": "c330ea18966a41619d602fb8d314278a",
              "version_major": 2,
              "version_minor": 0
            },
            "text/plain": [
              "policy.optimizer.pth:   0%|          | 0.00/199k [00:00<?, ?B/s]"
            ]
          },
          "metadata": {},
          "output_type": "display_data"
        },
        {
          "data": {
            "application/vnd.jupyter.widget-view+json": {
              "model_id": "e7ea4bb186ba41358ff9d8c4462a2cf0",
              "version_major": 2,
              "version_minor": 0
            },
            "text/plain": [
              "pytorch_variables.pth:   0%|          | 0.00/864 [00:00<?, ?B/s]"
            ]
          },
          "metadata": {},
          "output_type": "display_data"
        },
        {
          "data": {
            "application/vnd.jupyter.widget-view+json": {
              "model_id": "7ed37bf3cd6845abbfa9c44ff283ba81",
              "version_major": 2,
              "version_minor": 0
            },
            "text/plain": [
              "Upload 4 LFS files:   0%|          | 0/4 [00:00<?, ?it/s]"
            ]
          },
          "metadata": {},
          "output_type": "display_data"
        },
        {
          "data": {
            "application/vnd.jupyter.widget-view+json": {
              "model_id": "edfd79aa15ce48e99a1fe2068dade5e3",
              "version_major": 2,
              "version_minor": 0
            },
            "text/plain": [
              "ppo-LunarLander-v2.zip:   0%|          | 0.00/316k [00:00<?, ?B/s]"
            ]
          },
          "metadata": {},
          "output_type": "display_data"
        },
        {
          "name": "stdout",
          "output_type": "stream",
          "text": [
            "\u001b[38;5;4mℹ Your model is pushed to the Hub. You can view your model here:\n",
            "https://huggingface.co/PrzemekS/rl-hgf-course-ppo-LunarLander-v2/tree/main/\u001b[0m\n"
          ]
        },
        {
          "data": {
            "text/plain": [
              "CommitInfo(commit_url='https://huggingface.co/PrzemekS/rl-hgf-course-ppo-LunarLander-v2/commit/4b56f9bcdbbc4f956ec75cb8b052c6ada66b4a38', commit_message='PPO LunarLander-v2 trained agent from the RL-HGF course', commit_description='', oid='4b56f9bcdbbc4f956ec75cb8b052c6ada66b4a38', pr_url=None, pr_revision=None, pr_num=None)"
            ]
          },
          "execution_count": 29,
          "metadata": {},
          "output_type": "execute_result"
        }
      ],
      "source": [
        "import gymnasium as gym\n",
        "\n",
        "from stable_baselines3 import PPO\n",
        "from stable_baselines3.common.vec_env import DummyVecEnv\n",
        "from stable_baselines3.common.env_util import make_vec_env\n",
        "\n",
        "from huggingface_sb3 import package_to_hub\n",
        "\n",
        "# PLACE the variables you've just defined two cells above\n",
        "# Define the name of the environment\n",
        "env_id = \"LunarLander-v2\"\n",
        "\n",
        "# TODO: Define the model architecture we used\n",
        "model_architecture = \"PPO\"\n",
        "\n",
        "## Define a repo_id\n",
        "## repo_id is the id of the model repository from the Hugging Face Hub (repo_id = {organization}/{repo_name} for instance ThomasSimonini/ppo-LunarLander-v2\n",
        "## CHANGE WITH YOUR REPO ID\n",
        "repo_id = \"PrzemekS/rl-hgf-course-ppo-LunarLander-v2\" # Change with your repo id, you can't push with mine 😄\n",
        "\n",
        "## Define the commit message\n",
        "commit_message = \"PPO LunarLander-v2 trained agent from the RL-HGF course\"\n",
        "\n",
        "# Create the evaluation env and set the render_mode=\"rgb_array\"\n",
        "eval_env = DummyVecEnv([lambda: gym.make(env_id, render_mode=\"rgb_array\")])\n",
        "\n",
        "tags = [\"rl-hgf-course\", \"reinforcement-learning\", \"ppo\", \"LunarLander-v2\"]  # Add relevant tags here\n",
        "\n",
        "# PLACE the package_to_hub function you've just filled here\n",
        "package_to_hub(model=model, # Our trained model\n",
        "               model_name=model_name, # The name of our trained model\n",
        "               model_architecture=model_architecture, # The model architecture we used: in our case PPO\n",
        "               env_id=env_id, # Name of the environment\n",
        "               eval_env=eval_env, # Evaluation Environment\n",
        "               repo_id=repo_id, # id of the model repository from the Hugging Face Hub (repo_id = {organization}/{repo_name} for instance ThomasSimonini/ppo-LunarLander-v2\n",
        "               commit_message=commit_message,\n",
        "               #tags=tags\n",
        "               )\n"
      ]
    },
    {
      "cell_type": "code",
      "execution_count": null,
      "metadata": {},
      "outputs": [],
      "source": [
        "checkpoint = load_from_hub(repo_id, filename)\n",
        "model = PPO.load(checkpoint, custom_objects=custom_objects, print_system_info=True)"
      ]
    },
    {
      "cell_type": "markdown",
      "metadata": {
        "id": "T79AEAWEFIxz"
      },
      "source": [
        "Congrats 🥳 you've just trained and uploaded your first Deep Reinforcement Learning agent. The script above should have displayed a link to a model repository such as https://huggingface.co/osanseviero/test_sb3. When you go to this link, you can:\n",
        "* See a video preview of your agent at the right.\n",
        "* Click \"Files and versions\" to see all the files in the repository.\n",
        "* Click \"Use in stable-baselines3\" to get a code snippet that shows how to load the model.\n",
        "* A model card (`README.md` file) which gives a description of the model\n",
        "\n",
        "Under the hood, the Hub uses git-based repositories (don't worry if you don't know what git is), which means you can update the model with new versions as you experiment and improve your agent.\n",
        "\n",
        "Compare the results of your LunarLander-v2 with your classmates using the leaderboard 🏆 👉 https://huggingface.co/spaces/huggingface-projects/Deep-Reinforcement-Learning-Leaderboard"
      ]
    },
    {
      "cell_type": "markdown",
      "metadata": {
        "id": "9nWnuQHRfFRa"
      },
      "source": [
        "## Load a saved LunarLander model from the Hub 🤗\n",
        "Thanks to [ironbar](https://github.com/ironbar) for the contribution.\n",
        "\n",
        "Loading a saved model from the Hub is really easy.\n",
        "\n",
        "You go to https://huggingface.co/models?library=stable-baselines3 to see the list of all the Stable-baselines3 saved models.\n",
        "1. You select one and copy its repo_id\n",
        "\n",
        "<img src=\"https://huggingface.co/datasets/huggingface-deep-rl-course/course-images/resolve/main/en/notebooks/unit1/copy-id.png\" alt=\"Copy-id\"/>"
      ]
    },
    {
      "cell_type": "markdown",
      "metadata": {
        "id": "hNPLJF2bfiUw"
      },
      "source": [
        "2. Then we just need to use load_from_hub with:\n",
        "- The repo_id\n",
        "- The filename: the saved model inside the repo and its extension (*.zip)"
      ]
    },
    {
      "cell_type": "markdown",
      "metadata": {
        "id": "bhb9-NtsinKB"
      },
      "source": [
        "Because the model I download from the Hub was trained with Gym (the former version of Gymnasium) we need to install shimmy a API conversion tool that will help us to run the environment correctly.\n",
        "\n",
        "Shimmy Documentation: https://github.com/Farama-Foundation/Shimmy"
      ]
    },
    {
      "cell_type": "code",
      "execution_count": null,
      "metadata": {
        "id": "03WI-bkci1kH"
      },
      "outputs": [],
      "source": [
        "!pip install shimmy"
      ]
    },
    {
      "cell_type": "code",
      "execution_count": 33,
      "metadata": {
        "id": "oj8PSGHJfwz3"
      },
      "outputs": [
        {
          "name": "stdout",
          "output_type": "stream",
          "text": [
            "== CURRENT SYSTEM INFO ==\n",
            "- OS: Windows-10-10.0.22631-SP0 10.0.22631\n",
            "- Python: 3.11.7\n",
            "- Stable-Baselines3: 2.3.2\n",
            "- PyTorch: 2.4.1+cu124\n",
            "- GPU Enabled: True\n",
            "- Numpy: 1.26.3\n",
            "- Cloudpickle: 3.0.0\n",
            "- Gymnasium: 0.29.1\n",
            "- OpenAI Gym: 0.26.2\n",
            "\n",
            "== SAVED MODEL SYSTEM INFO ==\n",
            "- OS: macOS-13.4.1-arm64-i386-64bit Darwin Kernel Version 22.5.0: Thu Jun  8 22:22:20 PDT 2023; root:xnu-8796.121.3~7/RELEASE_ARM64_T6000\n",
            "- Python: 3.11.0\n",
            "- Stable-Baselines3: 2.0.0a5\n",
            "- PyTorch: 2.1.1\n",
            "- GPU Enabled: False\n",
            "- Numpy: 1.26.2\n",
            "- Cloudpickle: 3.0.0\n",
            "- Gymnasium: 0.28.1\n",
            "- OpenAI Gym: 0.26.2\n",
            "\n"
          ]
        }
      ],
      "source": [
        "from huggingface_sb3 import load_from_hub\n",
        "repo_id = \"satcos/ppo-LunarLander-v2\" # The repo_id\n",
        "filename = \"ppo-LunarLander-v2.zip\" # The model filename.zip\n",
        "\n",
        "# When the model was trained on Python 3.8 the pickle protocol is 5\n",
        "# But Python 3.6, 3.7 use protocol 4\n",
        "# In order to get compatibility we need to:\n",
        "# 1. Install pickle5 (we done it at the beginning of the colab)\n",
        "# 2. Create a custom empty object we pass as parameter to PPO.load()\n",
        "custom_objects = {\n",
        "            \"learning_rate\": 0.0,\n",
        "            \"lr_schedule\": lambda _: 0.0,\n",
        "            \"clip_range\": lambda _: 0.0,\n",
        "}\n",
        "\n",
        "checkpoint = load_from_hub(repo_id, filename)\n",
        "model = PPO.load(checkpoint, custom_objects=custom_objects, print_system_info=True)"
      ]
    },
    {
      "cell_type": "markdown",
      "metadata": {
        "id": "Fs0Y-qgPgLUf"
      },
      "source": [
        "Let's evaluate this agent:"
      ]
    },
    {
      "cell_type": "code",
      "execution_count": 34,
      "metadata": {
        "id": "PAEVwK-aahfx"
      },
      "outputs": [
        {
          "name": "stdout",
          "output_type": "stream",
          "text": [
            "mean_reward=269.93 +/- 15.77538336543191\n"
          ]
        }
      ],
      "source": [
        "#@title\n",
        "eval_env = Monitor(gym.make(\"LunarLander-v2\"))\n",
        "mean_reward, std_reward = evaluate_policy(model, eval_env, n_eval_episodes=10, deterministic=True)\n",
        "print(f\"mean_reward={mean_reward:.2f} +/- {std_reward}\")"
      ]
    },
    {
      "cell_type": "markdown",
      "metadata": {
        "id": "BQAwLnYFPk-s"
      },
      "source": [
        "## Some additional challenges 🏆\n",
        "The best way to learn **is to try things by your own**! As you saw, the current agent is not doing great. As a first suggestion, you can train for more steps. With 1,000,000 steps, we saw some great results!\n",
        "\n",
        "In the [Leaderboard](https://huggingface.co/spaces/huggingface-projects/Deep-Reinforcement-Learning-Leaderboard) you will find your agents. Can you get to the top?\n",
        "\n",
        "Here are some ideas to achieve so:\n",
        "* Train more steps\n",
        "* Try different hyperparameters for `PPO`. You can see them at https://stable-baselines3.readthedocs.io/en/master/modules/ppo.html#parameters.\n",
        "* Check the [Stable-Baselines3 documentation](https://stable-baselines3.readthedocs.io/en/master/modules/dqn.html) and try another model such as DQN.\n",
        "* **Push your new trained model** on the Hub 🔥\n",
        "\n",
        "**Compare the results of your LunarLander-v2 with your classmates** using the [leaderboard](https://huggingface.co/spaces/huggingface-projects/Deep-Reinforcement-Learning-Leaderboard) 🏆\n",
        "\n",
        "Is moon landing too boring for you? Try to **change the environment**, why not use MountainCar-v0, CartPole-v1 or CarRacing-v0? Check how they work [using the gym documentation](https://www.gymlibrary.dev/) and have fun 🎉."
      ]
    },
    {
      "cell_type": "markdown",
      "metadata": {
        "id": "9lM95-dvmif8"
      },
      "source": [
        "________________________________________________________________________\n",
        "Congrats on finishing this chapter! That was the biggest one, **and there was a lot of information.**\n",
        "\n",
        "If you’re still feel confused with all these elements...it's totally normal! **This was the same for me and for all people who studied RL.**\n",
        "\n",
        "Take time to really **grasp the material before continuing and try the additional challenges**. It’s important to master these elements and have a solid foundations.\n",
        "\n",
        "Naturally, during the course, we’re going to dive deeper into these concepts but **it’s better to have a good understanding of them now before diving into the next chapters.**\n",
        "\n"
      ]
    },
    {
      "cell_type": "code",
      "execution_count": 14,
      "metadata": {},
      "outputs": [
        {
          "name": "stdout",
          "output_type": "stream",
          "text": [
            "ActorCriticPolicy(\n",
            "  (features_extractor): FlattenExtractor(\n",
            "    (flatten): Flatten(start_dim=1, end_dim=-1)\n",
            "  )\n",
            "  (pi_features_extractor): FlattenExtractor(\n",
            "    (flatten): Flatten(start_dim=1, end_dim=-1)\n",
            "  )\n",
            "  (vf_features_extractor): FlattenExtractor(\n",
            "    (flatten): Flatten(start_dim=1, end_dim=-1)\n",
            "  )\n",
            "  (mlp_extractor): MlpExtractor(\n",
            "    (policy_net): Sequential(\n",
            "      (0): Linear(in_features=8, out_features=64, bias=True)\n",
            "      (1): Tanh()\n",
            "      (2): Linear(in_features=64, out_features=64, bias=True)\n",
            "      (3): Tanh()\n",
            "    )\n",
            "    (value_net): Sequential(\n",
            "      (0): Linear(in_features=8, out_features=64, bias=True)\n",
            "      (1): Tanh()\n",
            "      (2): Linear(in_features=64, out_features=64, bias=True)\n",
            "      (3): Tanh()\n",
            "    )\n",
            "  )\n",
            "  (action_net): Linear(in_features=64, out_features=4, bias=True)\n",
            "  (value_net): Linear(in_features=64, out_features=1, bias=True)\n",
            ")\n"
          ]
        }
      ],
      "source": [
        "from huggingface_sb3 import load_from_hub\n",
        "\n",
        "repo_id = \"satcos/ppo-LunarLander-v2\"\n",
        "filename = \"ppo-LunarLander-v2.zip\"\n",
        "\n",
        "model_path = load_from_hub(repo_id, filename)\n",
        "model_win = PPO.load(model_path)\n",
        "print (model_win.policy)"
      ]
    },
    {
      "cell_type": "code",
      "execution_count": 15,
      "metadata": {},
      "outputs": [
        {
          "name": "stdout",
          "output_type": "stream",
          "text": [
            "mean_reward=273.05 +/- 19.77779551731185. Score: 253.27\n"
          ]
        }
      ],
      "source": [
        "eval_env = Monitor(gym.make(\"LunarLander-v2\", render_mode='rgb_array'))\n",
        "mean_reward, std_reward = evaluate_policy(model_win, eval_env, n_eval_episodes=10, deterministic=True)\n",
        "print(f\"mean_reward={mean_reward:.2f} +/- {std_reward}. Score: {mean_reward - std_reward:.2f}\")"
      ]
    },
    {
      "cell_type": "code",
      "execution_count": 18,
      "metadata": {},
      "outputs": [
        {
          "name": "stdout",
          "output_type": "stream",
          "text": [
            "clip_range <function get_schedule_fn.<locals>.<lambda> at 0x0000017DA8742AC0> ||| <function get_schedule_fn.<locals>.<lambda> at 0x0000017DA8740680>\n",
            "collect_rollouts <bound method OnPolicyAlgorithm.collect_rollouts of <stable_baselines3.ppo.ppo.PPO object at 0x0000017E0E15BF10>> ||| <bound method OnPolicyAlgorithm.collect_rollouts of <stable_baselines3.ppo.ppo.PPO object at 0x0000017DFB273450>>\n",
            "ep_info_buffer deque([{'r': 279.077321, 'l': 853, 't': 39908.40867}, {'r': 315.842492, 'l': 177, 't': 39908.40867}, {'r': 270.448541, 'l': 170, 't': 39908.434668}, {'r': 292.669271, 'l': 150, 't': 39908.460675}, {'r': 304.839291, 'l': 232, 't': 39908.496192}, {'r': 316.991263, 'l': 203, 't': 39908.56636}, {'r': 292.890084, 'l': 163, 't': 39908.577216}, {'r': 252.318212, 'l': 153, 't': 39908.628495}, {'r': 291.321349, 'l': 178, 't': 39908.638487}, {'r': 324.266576, 'l': 181, 't': 39908.649693}, {'r': 300.512413, 'l': 142, 't': 39908.781803}, {'r': 281.167327, 'l': 166, 't': 39908.922881}, {'r': 304.741116, 'l': 403, 't': 39908.992396}, {'r': 301.606127, 'l': 177, 't': 39909.043407}, {'r': 299.975165, 'l': 170, 't': 39909.080907}, {'r': 283.219767, 'l': 168, 't': 39912.627778}, {'r': 324.286209, 'l': 176, 't': 39912.632779}, {'r': 332.412471, 'l': 194, 't': 39912.636791}, {'r': 294.059669, 'l': 174, 't': 39912.6843}, {'r': 269.751588, 'l': 162, 't': 39912.688306}, {'r': 304.712078, 'l': 167, 't': 39912.745302}, {'r': 303.333295, 'l': 211, 't': 39912.773807}, {'r': 321.932309, 'l': 173, 't': 39912.780808}, {'r': 297.778024, 'l': 176, 't': 39912.784808}, {'r': 283.017524, 'l': 151, 't': 39912.813794}, {'r': 263.842281, 'l': 724, 't': 39913.147067}, {'r': 312.987486, 'l': 214, 't': 39913.173119}, {'r': 309.912678, 'l': 170, 't': 39913.185121}, {'r': 304.441803, 'l': 178, 't': 39913.219134}, {'r': 307.128809, 'l': 185, 't': 39913.21812}, {'r': 309.883094, 'l': 179, 't': 39913.219121}, {'r': 322.920496, 'l': 203, 't': 39913.244134}, {'r': 271.807483, 'l': 186, 't': 39913.311461}, {'r': 301.320212, 'l': 161, 't': 39913.32345}, {'r': 313.31937, 'l': 195, 't': 39913.33446}, {'r': 297.700581, 'l': 157, 't': 39913.346447}, {'r': 278.850772, 'l': 180, 't': 39913.38396}, {'r': 311.568512, 'l': 184, 't': 39913.407962}, {'r': 299.973638, 'l': 216, 't': 39913.470267}, {'r': 303.954721, 'l': 301, 't': 39913.526283}, {'r': 281.25869, 'l': 153, 't': 39913.675914}, {'r': 299.06786, 'l': 149, 't': 39913.739927}, {'r': 293.239742, 'l': 170, 't': 39913.780436}, {'r': 306.190226, 'l': 175, 't': 39913.796436}, {'r': 290.937625, 'l': 142, 't': 39913.804443}, {'r': 292.37882, 'l': 206, 't': 39913.840435}, {'r': 265.609122, 'l': 154, 't': 39913.864948}, {'r': 334.902536, 'l': 198, 't': 39913.881962}, {'r': 290.726361, 'l': 213, 't': 39913.897948}, {'r': 317.981172, 'l': 180, 't': 39913.91196}, {'r': 284.826981, 'l': 176, 't': 39913.912946}, {'r': 292.17397, 'l': 154, 't': 39913.918947}, {'r': 267.338784, 'l': 140, 't': 39913.943955}, {'r': 307.490176, 'l': 208, 't': 39914.072987}, {'r': 309.202599, 'l': 186, 't': 39914.134989}, {'r': 316.43277, 'l': 176, 't': 39914.268026}, {'r': 293.287754, 'l': 153, 't': 39914.297026}, {'r': 294.976431, 'l': 180, 't': 39914.343039}, {'r': 302.126949, 'l': 161, 't': 39914.345033}, {'r': 285.089701, 'l': 158, 't': 39914.42254}, {'r': 286.870899, 'l': 171, 't': 39914.43454}, {'r': 311.856601, 'l': 160, 't': 39914.446538}, {'r': 250.149836, 'l': 159, 't': 39914.448545}, {'r': 331.51443, 'l': 202, 't': 39914.525051}, {'r': 317.419681, 'l': 191, 't': 39914.556067}, {'r': 315.294279, 'l': 206, 't': 39914.574578}, {'r': 318.746473, 'l': 209, 't': 39914.646572}, {'r': 278.549621, 'l': 180, 't': 39914.685076}, {'r': 289.45783, 'l': 135, 't': 39914.733076}, {'r': 304.576496, 'l': 179, 't': 39914.754088}, {'r': 312.075515, 'l': 177, 't': 39914.928111}, {'r': 309.983744, 'l': 182, 't': 39915.035352}, {'r': 290.134206, 'l': 178, 't': 39915.135865}, {'r': 315.087045, 'l': 177, 't': 39915.135864}, {'r': 317.326453, 'l': 185, 't': 39915.148873}, {'r': 318.6185, 'l': 191, 't': 39915.160868}, {'r': 311.068134, 'l': 223, 't': 39915.193392}, {'r': 315.573199, 'l': 164, 't': 39915.199392}, {'r': 302.538243, 'l': 176, 't': 39915.205378}, {'r': 285.818515, 'l': 137, 't': 39915.233378}, {'r': 273.028757, 'l': 152, 't': 39915.244386}, {'r': 43.887354, 'l': 101, 't': 39915.326891}, {'r': 306.136198, 'l': 212, 't': 39915.377423}, {'r': 266.93245, 'l': 173, 't': 39915.424409}, {'r': 38.66698, 'l': 91, 't': 39915.449413}, {'r': 218.764339, 'l': 1000, 't': 39915.609895}, {'r': 305.434476, 'l': 165, 't': 39915.623444}, {'r': 284.49566, 'l': 161, 't': 39915.717952}, {'r': 284.255436, 'l': 157, 't': 39915.735965}, {'r': 261.355853, 'l': 151, 't': 39915.759958}, {'r': 309.203986, 'l': 175, 't': 39915.758958}, {'r': 292.541289, 'l': 161, 't': 39915.761464}, {'r': 281.111409, 'l': 289, 't': 39915.802468}, {'r': 272.793438, 'l': 167, 't': 39915.820477}, {'r': 293.180236, 'l': 203, 't': 39915.834467}, {'r': 324.97655, 'l': 162, 't': 39915.876983}, {'r': 271.990951, 'l': 160, 't': 39915.964494}, {'r': 305.830147, 'l': 165, 't': 39916.004493}, {'r': 293.711056, 'l': 253, 't': 39916.053511}, {'r': 263.063355, 'l': 149, 't': 39916.115679}], maxlen=100) ||| deque([{'r': 276.459209, 'l': 275, 't': 1559.898619}, {'r': 307.428736, 'l': 253, 't': 1559.919611}, {'r': 275.064824, 'l': 249, 't': 1559.944964}, {'r': 245.59173, 'l': 206, 't': 1559.948524}, {'r': 266.835344, 'l': 253, 't': 1560.016658}, {'r': 249.424628, 'l': 281, 't': 1560.125663}, {'r': 316.331217, 'l': 282, 't': 1560.130301}, {'r': 267.171359, 'l': 235, 't': 1560.146565}, {'r': 251.941498, 'l': 283, 't': 1560.174277}, {'r': 246.505203, 'l': 252, 't': 1560.179007}, {'r': 248.774772, 'l': 251, 't': 1560.18038}, {'r': 266.124102, 'l': 326, 't': 1560.186135}, {'r': 257.854078, 'l': 360, 't': 1560.329192}, {'r': 275.992287, 'l': 272, 't': 1560.353844}, {'r': 279.811654, 'l': 230, 't': 1560.568824}, {'r': 299.324748, 'l': 241, 't': 1560.601001}, {'r': 313.51876, 'l': 220, 't': 1560.608313}, {'r': 254.970174, 'l': 231, 't': 1560.625374}, {'r': 269.581079, 'l': 265, 't': 1560.724635}, {'r': 293.226994, 'l': 242, 't': 1560.739971}, {'r': 284.762408, 'l': 217, 't': 1560.807563}, {'r': 282.639709, 'l': 286, 't': 1560.835859}, {'r': 285.365992, 'l': 230, 't': 1560.857537}, {'r': 283.264211, 'l': 245, 't': 1560.856885}, {'r': 258.749144, 'l': 241, 't': 1560.858821}, {'r': 30.758644, 'l': 96, 't': 1560.892954}, {'r': 262.53177, 'l': 271, 't': 1560.980319}, {'r': 293.023456, 'l': 293, 't': 1560.988285}, {'r': 288.877382, 'l': 301, 't': 1561.052505}, {'r': 240.635153, 'l': 274, 't': 1561.160928}, {'r': 283.848409, 'l': 270, 't': 1561.177107}, {'r': 302.800906, 'l': 263, 't': 1561.43645}, {'r': 80.534792, 'l': 130, 't': 1561.477855}, {'r': 276.942713, 'l': 232, 't': 1561.48108}, {'r': 81.846666, 'l': 189, 't': 1561.49233}, {'r': 253.59084, 'l': 274, 't': 1561.493336}, {'r': 256.026758, 'l': 275, 't': 1561.514915}, {'r': 276.611011, 'l': 266, 't': 1562.641746}, {'r': 268.515761, 'l': 239, 't': 1562.671936}, {'r': 303.067703, 'l': 248, 't': 1562.680467}, {'r': 256.747404, 'l': 256, 't': 1562.725047}, {'r': 272.94312, 'l': 263, 't': 1562.74662}, {'r': 304.395174, 'l': 298, 't': 1562.809586}, {'r': 274.553803, 'l': 239, 't': 1562.806216}, {'r': 302.835954, 'l': 262, 't': 1562.87302}, {'r': 283.419148, 'l': 248, 't': 1563.010044}, {'r': 81.325363, 'l': 159, 't': 1563.153323}, {'r': 279.01002, 'l': 300, 't': 1563.211463}, {'r': 266.763023, 'l': 227, 't': 1563.298107}, {'r': 300.070567, 'l': 240, 't': 1563.324864}, {'r': 261.433841, 'l': 254, 't': 1563.363617}, {'r': 304.831964, 'l': 268, 't': 1563.428798}, {'r': 279.874469, 'l': 236, 't': 1563.45646}, {'r': 260.49029, 'l': 252, 't': 1563.467925}, {'r': 281.537027, 'l': 292, 't': 1563.501752}, {'r': 255.232996, 'l': 221, 't': 1563.545985}, {'r': 264.238912, 'l': 247, 't': 1563.560347}, {'r': 233.98787, 'l': 257, 't': 1563.569284}, {'r': 275.565478, 'l': 250, 't': 1563.689694}, {'r': 299.27354, 'l': 284, 't': 1563.712209}, {'r': 306.268053, 'l': 223, 't': 1563.866235}, {'r': 277.668547, 'l': 268, 't': 1563.872064}, {'r': 268.906887, 'l': 237, 't': 1563.956758}, {'r': 301.633797, 'l': 225, 't': 1564.017493}, {'r': 280.084721, 'l': 264, 't': 1564.132838}, {'r': 294.6791, 'l': 224, 't': 1564.154122}, {'r': 42.761282, 'l': 201, 't': 1564.159051}, {'r': 266.91476, 'l': 241, 't': 1564.202893}, {'r': 262.150763, 'l': 239, 't': 1564.317089}, {'r': 282.632625, 'l': 300, 't': 1564.330762}, {'r': 256.873026, 'l': 260, 't': 1564.325607}, {'r': 250.214163, 'l': 292, 't': 1564.35928}, {'r': 278.805785, 'l': 292, 't': 1564.488799}, {'r': 265.770706, 'l': 254, 't': 1564.511656}, {'r': 300.188112, 'l': 259, 't': 1564.551903}, {'r': 249.26179, 'l': 241, 't': 1564.66468}, {'r': 247.49646, 'l': 260, 't': 1564.734245}, {'r': 289.519613, 'l': 242, 't': 1564.764749}, {'r': 72.169788, 'l': 157, 't': 1564.811943}, {'r': 257.120493, 'l': 265, 't': 1564.898966}, {'r': 305.251507, 'l': 226, 't': 1564.941155}, {'r': 256.41056, 'l': 251, 't': 1564.978718}, {'r': 311.542314, 'l': 205, 't': 1564.978795}, {'r': 248.109126, 'l': 266, 't': 1565.006325}, {'r': 290.073886, 'l': 279, 't': 1565.061497}, {'r': 308.638844, 'l': 249, 't': 1565.108479}, {'r': 296.810226, 'l': 250, 't': 1565.139694}, {'r': 286.55139, 'l': 250, 't': 1565.276067}, {'r': 264.910949, 'l': 246, 't': 1565.286856}, {'r': 267.062097, 'l': 244, 't': 1565.322886}, {'r': 285.999405, 'l': 215, 't': 1565.342987}, {'r': 250.46534, 'l': 274, 't': 1565.624088}, {'r': 253.893302, 'l': 227, 't': 1565.637202}, {'r': 261.734954, 'l': 266, 't': 1565.68858}, {'r': 265.060935, 'l': 294, 't': 1565.742216}, {'r': 166.717951, 'l': 1000, 't': 1565.756364}, {'r': 289.341206, 'l': 250, 't': 1565.774753}, {'r': 286.72515, 'l': 242, 't': 1565.815088}, {'r': 261.644662, 'l': 224, 't': 1565.872321}, {'r': 264.024909, 'l': 268, 't': 1565.866476}], maxlen=100)\n",
            "get_env <bound method BaseAlgorithm.get_env of <stable_baselines3.ppo.ppo.PPO object at 0x0000017E0E15BF10>> ||| <bound method BaseAlgorithm.get_env of <stable_baselines3.ppo.ppo.PPO object at 0x0000017DFB273450>>\n",
            "get_parameters <bound method BaseAlgorithm.get_parameters of <stable_baselines3.ppo.ppo.PPO object at 0x0000017E0E15BF10>> ||| <bound method BaseAlgorithm.get_parameters of <stable_baselines3.ppo.ppo.PPO object at 0x0000017DFB273450>>\n",
            "get_vec_normalize_env <bound method BaseAlgorithm.get_vec_normalize_env of <stable_baselines3.ppo.ppo.PPO object at 0x0000017E0E15BF10>> ||| <bound method BaseAlgorithm.get_vec_normalize_env of <stable_baselines3.ppo.ppo.PPO object at 0x0000017DFB273450>>\n",
            "learn <bound method PPO.learn of <stable_baselines3.ppo.ppo.PPO object at 0x0000017E0E15BF10>> ||| <bound method PPO.learn of <stable_baselines3.ppo.ppo.PPO object at 0x0000017DFB273450>>\n",
            "lr_schedule <function get_schedule_fn.<locals>.<lambda> at 0x0000017DA8742DE0> ||| <function get_schedule_fn.<locals>.<lambda> at 0x0000017DA8740A40>\n",
            "num_timesteps 60014592 ||| 1015808\n",
            "observation_space Box([-1.5       -1.5       -5.        -5.        -3.1415927 -5.\n",
            " -0.        -0.       ], [1.5       1.5       5.        5.        3.1415927 5.        1.\n",
            " 1.       ], (8,), float32) ||| Box([-90.        -90.         -5.         -5.         -3.1415927  -5.\n",
            "  -0.         -0.       ], [90.        90.         5.         5.         3.1415927  5.\n",
            "  1.         1.       ], (8,), float32)\n",
            "policy CustomActorCriticPolicy(\n",
            "  (features_extractor): FlattenExtractor(\n",
            "    (flatten): Flatten(start_dim=1, end_dim=-1)\n",
            "  )\n",
            "  (pi_features_extractor): FlattenExtractor(\n",
            "    (flatten): Flatten(start_dim=1, end_dim=-1)\n",
            "  )\n",
            "  (vf_features_extractor): FlattenExtractor(\n",
            "    (flatten): Flatten(start_dim=1, end_dim=-1)\n",
            "  )\n",
            "  (mlp_extractor): CustomNetwork(\n",
            "    (policy_net): Sequential(\n",
            "      (0): Linear(in_features=8, out_features=128, bias=True)\n",
            "      (1): ReLU()\n",
            "      (2): Linear(in_features=128, out_features=64, bias=True)\n",
            "      (3): ReLU()\n",
            "      (4): Linear(in_features=64, out_features=32, bias=True)\n",
            "    )\n",
            "    (value_net): Sequential(\n",
            "      (0): Linear(in_features=8, out_features=128, bias=True)\n",
            "      (1): ReLU()\n",
            "      (2): Linear(in_features=128, out_features=64, bias=True)\n",
            "      (3): ReLU()\n",
            "      (4): Linear(in_features=64, out_features=32, bias=True)\n",
            "    )\n",
            "  )\n",
            "  (action_net): Linear(in_features=32, out_features=4, bias=True)\n",
            "  (value_net): Linear(in_features=32, out_features=1, bias=True)\n",
            ") ||| ActorCriticPolicy(\n",
            "  (features_extractor): FlattenExtractor(\n",
            "    (flatten): Flatten(start_dim=1, end_dim=-1)\n",
            "  )\n",
            "  (pi_features_extractor): FlattenExtractor(\n",
            "    (flatten): Flatten(start_dim=1, end_dim=-1)\n",
            "  )\n",
            "  (vf_features_extractor): FlattenExtractor(\n",
            "    (flatten): Flatten(start_dim=1, end_dim=-1)\n",
            "  )\n",
            "  (mlp_extractor): MlpExtractor(\n",
            "    (policy_net): Sequential(\n",
            "      (0): Linear(in_features=8, out_features=64, bias=True)\n",
            "      (1): Tanh()\n",
            "      (2): Linear(in_features=64, out_features=64, bias=True)\n",
            "      (3): Tanh()\n",
            "    )\n",
            "    (value_net): Sequential(\n",
            "      (0): Linear(in_features=8, out_features=64, bias=True)\n",
            "      (1): Tanh()\n",
            "      (2): Linear(in_features=64, out_features=64, bias=True)\n",
            "      (3): Tanh()\n",
            "    )\n",
            "  )\n",
            "  (action_net): Linear(in_features=64, out_features=4, bias=True)\n",
            "  (value_net): Linear(in_features=64, out_features=1, bias=True)\n",
            ")\n",
            "policy_class <class '__main__.CustomActorCriticPolicy'> ||| <class 'stable_baselines3.common.policies.ActorCriticPolicy'>\n",
            "predict <bound method BaseAlgorithm.predict of <stable_baselines3.ppo.ppo.PPO object at 0x0000017E0E15BF10>> ||| <bound method BaseAlgorithm.predict of <stable_baselines3.ppo.ppo.PPO object at 0x0000017DFB273450>>\n",
            "rollout_buffer <stable_baselines3.common.buffers.RolloutBuffer object at 0x0000017D8AF26550> ||| <stable_baselines3.common.buffers.RolloutBuffer object at 0x0000017D89371B90>\n",
            "save <bound method BaseAlgorithm.save of <stable_baselines3.ppo.ppo.PPO object at 0x0000017E0E15BF10>> ||| <bound method BaseAlgorithm.save of <stable_baselines3.ppo.ppo.PPO object at 0x0000017DFB273450>>\n",
            "set_env <bound method BaseAlgorithm.set_env of <stable_baselines3.ppo.ppo.PPO object at 0x0000017E0E15BF10>> ||| <bound method BaseAlgorithm.set_env of <stable_baselines3.ppo.ppo.PPO object at 0x0000017DFB273450>>\n",
            "set_logger <bound method BaseAlgorithm.set_logger of <stable_baselines3.ppo.ppo.PPO object at 0x0000017E0E15BF10>> ||| <bound method BaseAlgorithm.set_logger of <stable_baselines3.ppo.ppo.PPO object at 0x0000017DFB273450>>\n",
            "set_parameters <bound method BaseAlgorithm.set_parameters of <stable_baselines3.ppo.ppo.PPO object at 0x0000017E0E15BF10>> ||| <bound method BaseAlgorithm.set_parameters of <stable_baselines3.ppo.ppo.PPO object at 0x0000017DFB273450>>\n",
            "set_random_seed <bound method BaseAlgorithm.set_random_seed of <stable_baselines3.ppo.ppo.PPO object at 0x0000017E0E15BF10>> ||| <bound method BaseAlgorithm.set_random_seed of <stable_baselines3.ppo.ppo.PPO object at 0x0000017DFB273450>>\n",
            "start_time 1725923790710637900 ||| 1702292193916309000\n",
            "tensorboard_log ./tb_logs ||| None\n",
            "train <bound method PPO.train of <stable_baselines3.ppo.ppo.PPO object at 0x0000017E0E15BF10>> ||| <bound method PPO.train of <stable_baselines3.ppo.ppo.PPO object at 0x0000017DFB273450>>\n",
            "verbose 0 ||| 1\n"
          ]
        }
      ],
      "source": [
        "attributes = dir(model)\n",
        "# model = PPO(\n",
        "#     # policy = 'MlpPolicy',\n",
        "#     policy = CustomActorCriticPolicy,\n",
        "#     env = env,\n",
        "#     n_steps = 1024,\n",
        "#     batch_size = 64,\n",
        "#     n_epochs = 4,\n",
        "#     gamma = 0.999,\n",
        "#     gae_lambda = 0.98,\n",
        "#     ent_coef = 0.01,\n",
        "#     tensorboard_log = \"./tb_logs\",\n",
        "#     verbose=0\n",
        "#     )\n",
        "\n",
        "model = PPO.load('ppo-LunarLander-v2-updated')\n",
        "\n",
        "# Print the attributes\n",
        "for attr in attributes:\n",
        "    if attr.startswith(\"_\"):\n",
        "        continue\n",
        "    old_attr, new_attr = None, None\n",
        "    try:\n",
        "        old_attr = model.__getattribute__(attr)\n",
        "    except AttributeError:\n",
        "        pass\n",
        "    try:\n",
        "        new_attr = model_win.__getattribute__(attr)\n",
        "    except AttributeError:\n",
        "        pass\n",
        "    if old_attr == new_attr:\n",
        "        #print(attr, old_attr)\n",
        "        continue\n",
        "        print (attr, 'SAME')\n",
        "    else:\n",
        "        #continue\n",
        "        print(attr, old_attr, '|||',  new_attr)"
      ]
    },
    {
      "cell_type": "code",
      "execution_count": null,
      "metadata": {},
      "outputs": [],
      "source": [
        "print(model.rollout_buffer)"
      ]
    },
    {
      "cell_type": "code",
      "execution_count": null,
      "metadata": {},
      "outputs": [],
      "source": [
        "model_win.clip_range(100)"
      ]
    },
    {
      "cell_type": "code",
      "execution_count": null,
      "metadata": {},
      "outputs": [],
      "source": []
    },
    {
      "cell_type": "markdown",
      "metadata": {
        "id": "BjLhT70TEZIn"
      },
      "source": [
        "Next time, in the bonus unit 1, you'll train Huggy the Dog to fetch the stick.\n",
        "\n",
        "<img src=\"https://huggingface.co/datasets/huggingface-deep-rl-course/course-images/resolve/main/en/notebooks/unit1/huggy.jpg\" alt=\"Huggy\"/>\n",
        "\n",
        "## Keep learning, stay awesome 🤗"
      ]
    }
  ],
  "metadata": {
    "accelerator": "GPU",
    "colab": {
      "collapsed_sections": [
        "QAN7B0_HCVZC",
        "BqPKw3jt_pG5"
      ],
      "private_outputs": true,
      "provenance": []
    },
    "gpuClass": "standard",
    "kernelspec": {
      "display_name": "Python 3.9.7",
      "language": "python",
      "name": "python3"
    },
    "language_info": {
      "codemirror_mode": {
        "name": "ipython",
        "version": 3
      },
      "file_extension": ".py",
      "mimetype": "text/x-python",
      "name": "python",
      "nbconvert_exporter": "python",
      "pygments_lexer": "ipython3",
      "version": "3.11.7"
    },
    "vscode": {
      "interpreter": {
        "hash": "ed7f8024e43d3b8f5ca3c5e1a8151ab4d136b3ecee1e3fd59e0766ccc55e1b10"
      }
    }
  },
  "nbformat": 4,
  "nbformat_minor": 0
}
